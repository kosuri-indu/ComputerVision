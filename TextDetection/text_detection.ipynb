{
  "nbformat": 4,
  "nbformat_minor": 0,
  "metadata": {
    "colab": {
      "provenance": []
    },
    "kernelspec": {
      "name": "python3",
      "display_name": "Python 3"
    },
    "language_info": {
      "name": "python"
    }
  },
  "cells": [
    {
      "cell_type": "code",
      "source": [
        "from google.colab import drive\n",
        "\n",
        "drive.mount('/content/drive')"
      ],
      "metadata": {
        "colab": {
          "base_uri": "https://localhost:8080/"
        },
        "id": "YrY9X3GjNrOl",
        "outputId": "39e25792-3578-4570-e869-10f34a272b4e"
      },
      "execution_count": 1,
      "outputs": [
        {
          "output_type": "stream",
          "name": "stdout",
          "text": [
            "Mounted at /content/drive\n"
          ]
        }
      ]
    },
    {
      "cell_type": "code",
      "source": [
        "# ! - following command should be executed as a shell command\n",
        "# secure copy (scp) - for securely copying files between servers and your local machine\n",
        "\n",
        "!scp '/content/drive/MyDrive/images.zip' '/content/images.zip'"
      ],
      "metadata": {
        "id": "rGjZUKHpNvTm"
      },
      "execution_count": 2,
      "outputs": []
    },
    {
      "cell_type": "code",
      "source": [
        "# unzip - used to extract files from a ZIP archive.\n",
        "# -d - destination directory\n",
        "\n",
        "!unzip '/content/images.zip' -d '/content/'"
      ],
      "metadata": {
        "colab": {
          "base_uri": "https://localhost:8080/"
        },
        "id": "owVycsOpOIVd",
        "outputId": "0f612612-8ba0-4216-d7d8-08b535f845a6"
      },
      "execution_count": 3,
      "outputs": [
        {
          "output_type": "stream",
          "name": "stdout",
          "text": [
            "Archive:  /content/images.zip\n",
            "   creating: /content/images/\n",
            "  inflating: /content/images/actually_i_can.jpg  \n",
            "  inflating: /content/images/be_brillant.jpg  \n",
            "  inflating: /content/images/be_creative.jpg  \n",
            "  inflating: /content/images/crime_scene_do_not_cross.jpg  \n",
            "  inflating: /content/images/dead_end.jpg  \n",
            "  inflating: /content/images/game_over.jpg  \n",
            "  inflating: /content/images/happy.jpg  \n",
            "  inflating: /content/images/hello_spring.jpg  \n",
            "  inflating: /content/images/inspire.jpg  \n",
            "  inflating: /content/images/is_this_just_fantasy.jpg  \n",
            "  inflating: /content/images/i_see_a_light_in_the_darkness.jpg  \n",
            "  inflating: /content/images/kind_is_the_new_cool.jpg  \n",
            "  inflating: /content/images/love.jpg  \n",
            "  inflating: /content/images/love_is_love.jpg  \n",
            "  inflating: /content/images/make_this_day_great.jpg  \n",
            "  inflating: /content/images/no.jpg  \n",
            "  inflating: /content/images/sorry_i'm_busy.jpg  \n",
            "  inflating: /content/images/stories_matter.jpg  \n",
            "  inflating: /content/images/study.jpg  \n",
            "  inflating: /content/images/take_it_easy.jpg  \n",
            "  inflating: /content/images/teach.jpg  \n",
            "  inflating: /content/images/trip_&_coffee.jpg  \n",
            "  inflating: /content/images/what_if_this_is_all_real.jpg  \n",
            "  inflating: /content/images/yes.jpg  \n",
            "  inflating: /content/images/you_are_beautiful.jpg  \n"
          ]
        }
      ]
    },
    {
      "cell_type": "code",
      "source": [
        "# install the depencies\n",
        "\n",
        "!pip install tesseract-ocr\n",
        "!pip install libtesseract-dev\n",
        "\n",
        "!pip install pytesseract\n",
        "!pip install Pillow\n",
        "!pip install easyocr\n",
        "!pip install boto3"
      ],
      "metadata": {
        "colab": {
          "base_uri": "https://localhost:8080/"
        },
        "id": "i1VvQ0T5OR1V",
        "outputId": "f4d6f3bc-3316-4d26-b917-21eb7fc7cb59"
      },
      "execution_count": 6,
      "outputs": [
        {
          "output_type": "stream",
          "name": "stdout",
          "text": [
            "Collecting tesseract-ocr\n",
            "  Using cached tesseract-ocr-0.0.1.tar.gz (33 kB)\n",
            "  Preparing metadata (setup.py) ... \u001b[?25l\u001b[?25hdone\n",
            "Requirement already satisfied: cython in /usr/local/lib/python3.11/dist-packages (from tesseract-ocr) (3.0.11)\n",
            "Building wheels for collected packages: tesseract-ocr\n",
            "  \u001b[1;31merror\u001b[0m: \u001b[1msubprocess-exited-with-error\u001b[0m\n",
            "  \n",
            "  \u001b[31m×\u001b[0m \u001b[32mpython setup.py bdist_wheel\u001b[0m did not run successfully.\n",
            "  \u001b[31m│\u001b[0m exit code: \u001b[1;36m1\u001b[0m\n",
            "  \u001b[31m╰─>\u001b[0m See above for output.\n",
            "  \n",
            "  \u001b[1;35mnote\u001b[0m: This error originates from a subprocess, and is likely not a problem with pip.\n",
            "  Building wheel for tesseract-ocr (setup.py) ... \u001b[?25lerror\n",
            "\u001b[31m  ERROR: Failed building wheel for tesseract-ocr\u001b[0m\u001b[31m\n",
            "\u001b[0m\u001b[?25h  Running setup.py clean for tesseract-ocr\n",
            "Failed to build tesseract-ocr\n",
            "\u001b[31mERROR: ERROR: Failed to build installable wheels for some pyproject.toml based projects (tesseract-ocr)\u001b[0m\u001b[31m\n",
            "\u001b[0m\u001b[31mERROR: Could not find a version that satisfies the requirement libtesseract-dev (from versions: none)\u001b[0m\u001b[31m\n",
            "\u001b[0m\u001b[31mERROR: No matching distribution found for libtesseract-dev\u001b[0m\u001b[31m\n",
            "\u001b[0mRequirement already satisfied: pytesseract in /usr/local/lib/python3.11/dist-packages (0.3.13)\n",
            "Requirement already satisfied: packaging>=21.3 in /usr/local/lib/python3.11/dist-packages (from pytesseract) (24.2)\n",
            "Requirement already satisfied: Pillow>=8.0.0 in /usr/local/lib/python3.11/dist-packages (from pytesseract) (11.1.0)\n",
            "Requirement already satisfied: Pillow in /usr/local/lib/python3.11/dist-packages (11.1.0)\n",
            "Requirement already satisfied: easyocr in /usr/local/lib/python3.11/dist-packages (1.7.2)\n",
            "Requirement already satisfied: torch in /usr/local/lib/python3.11/dist-packages (from easyocr) (2.5.1+cu124)\n",
            "Requirement already satisfied: torchvision>=0.5 in /usr/local/lib/python3.11/dist-packages (from easyocr) (0.20.1+cu124)\n",
            "Requirement already satisfied: opencv-python-headless in /usr/local/lib/python3.11/dist-packages (from easyocr) (4.11.0.86)\n",
            "Requirement already satisfied: scipy in /usr/local/lib/python3.11/dist-packages (from easyocr) (1.13.1)\n",
            "Requirement already satisfied: numpy in /usr/local/lib/python3.11/dist-packages (from easyocr) (1.26.4)\n",
            "Requirement already satisfied: Pillow in /usr/local/lib/python3.11/dist-packages (from easyocr) (11.1.0)\n",
            "Requirement already satisfied: scikit-image in /usr/local/lib/python3.11/dist-packages (from easyocr) (0.25.1)\n",
            "Requirement already satisfied: python-bidi in /usr/local/lib/python3.11/dist-packages (from easyocr) (0.6.3)\n",
            "Requirement already satisfied: PyYAML in /usr/local/lib/python3.11/dist-packages (from easyocr) (6.0.2)\n",
            "Requirement already satisfied: Shapely in /usr/local/lib/python3.11/dist-packages (from easyocr) (2.0.6)\n",
            "Requirement already satisfied: pyclipper in /usr/local/lib/python3.11/dist-packages (from easyocr) (1.3.0.post6)\n",
            "Requirement already satisfied: ninja in /usr/local/lib/python3.11/dist-packages (from easyocr) (1.11.1.3)\n",
            "Requirement already satisfied: filelock in /usr/local/lib/python3.11/dist-packages (from torch->easyocr) (3.17.0)\n",
            "Requirement already satisfied: typing-extensions>=4.8.0 in /usr/local/lib/python3.11/dist-packages (from torch->easyocr) (4.12.2)\n",
            "Requirement already satisfied: networkx in /usr/local/lib/python3.11/dist-packages (from torch->easyocr) (3.4.2)\n",
            "Requirement already satisfied: jinja2 in /usr/local/lib/python3.11/dist-packages (from torch->easyocr) (3.1.5)\n",
            "Requirement already satisfied: fsspec in /usr/local/lib/python3.11/dist-packages (from torch->easyocr) (2024.10.0)\n",
            "Requirement already satisfied: nvidia-cuda-nvrtc-cu12==12.4.127 in /usr/local/lib/python3.11/dist-packages (from torch->easyocr) (12.4.127)\n",
            "Requirement already satisfied: nvidia-cuda-runtime-cu12==12.4.127 in /usr/local/lib/python3.11/dist-packages (from torch->easyocr) (12.4.127)\n",
            "Requirement already satisfied: nvidia-cuda-cupti-cu12==12.4.127 in /usr/local/lib/python3.11/dist-packages (from torch->easyocr) (12.4.127)\n",
            "Requirement already satisfied: nvidia-cudnn-cu12==9.1.0.70 in /usr/local/lib/python3.11/dist-packages (from torch->easyocr) (9.1.0.70)\n",
            "Requirement already satisfied: nvidia-cublas-cu12==12.4.5.8 in /usr/local/lib/python3.11/dist-packages (from torch->easyocr) (12.4.5.8)\n",
            "Requirement already satisfied: nvidia-cufft-cu12==11.2.1.3 in /usr/local/lib/python3.11/dist-packages (from torch->easyocr) (11.2.1.3)\n",
            "Requirement already satisfied: nvidia-curand-cu12==10.3.5.147 in /usr/local/lib/python3.11/dist-packages (from torch->easyocr) (10.3.5.147)\n",
            "Requirement already satisfied: nvidia-cusolver-cu12==11.6.1.9 in /usr/local/lib/python3.11/dist-packages (from torch->easyocr) (11.6.1.9)\n",
            "Requirement already satisfied: nvidia-cusparse-cu12==12.3.1.170 in /usr/local/lib/python3.11/dist-packages (from torch->easyocr) (12.3.1.170)\n",
            "Requirement already satisfied: nvidia-nccl-cu12==2.21.5 in /usr/local/lib/python3.11/dist-packages (from torch->easyocr) (2.21.5)\n",
            "Requirement already satisfied: nvidia-nvtx-cu12==12.4.127 in /usr/local/lib/python3.11/dist-packages (from torch->easyocr) (12.4.127)\n",
            "Requirement already satisfied: nvidia-nvjitlink-cu12==12.4.127 in /usr/local/lib/python3.11/dist-packages (from torch->easyocr) (12.4.127)\n",
            "Requirement already satisfied: triton==3.1.0 in /usr/local/lib/python3.11/dist-packages (from torch->easyocr) (3.1.0)\n",
            "Requirement already satisfied: sympy==1.13.1 in /usr/local/lib/python3.11/dist-packages (from torch->easyocr) (1.13.1)\n",
            "Requirement already satisfied: mpmath<1.4,>=1.1.0 in /usr/local/lib/python3.11/dist-packages (from sympy==1.13.1->torch->easyocr) (1.3.0)\n",
            "Requirement already satisfied: imageio!=2.35.0,>=2.33 in /usr/local/lib/python3.11/dist-packages (from scikit-image->easyocr) (2.36.1)\n",
            "Requirement already satisfied: tifffile>=2022.8.12 in /usr/local/lib/python3.11/dist-packages (from scikit-image->easyocr) (2025.1.10)\n",
            "Requirement already satisfied: packaging>=21 in /usr/local/lib/python3.11/dist-packages (from scikit-image->easyocr) (24.2)\n",
            "Requirement already satisfied: lazy-loader>=0.4 in /usr/local/lib/python3.11/dist-packages (from scikit-image->easyocr) (0.4)\n",
            "Requirement already satisfied: MarkupSafe>=2.0 in /usr/local/lib/python3.11/dist-packages (from jinja2->torch->easyocr) (3.0.2)\n",
            "Requirement already satisfied: boto3 in /usr/local/lib/python3.11/dist-packages (1.36.12)\n",
            "Requirement already satisfied: botocore<1.37.0,>=1.36.12 in /usr/local/lib/python3.11/dist-packages (from boto3) (1.36.12)\n",
            "Requirement already satisfied: jmespath<2.0.0,>=0.7.1 in /usr/local/lib/python3.11/dist-packages (from boto3) (1.0.1)\n",
            "Requirement already satisfied: s3transfer<0.12.0,>=0.11.0 in /usr/local/lib/python3.11/dist-packages (from boto3) (0.11.2)\n",
            "Requirement already satisfied: python-dateutil<3.0.0,>=2.1 in /usr/local/lib/python3.11/dist-packages (from botocore<1.37.0,>=1.36.12->boto3) (2.8.2)\n",
            "Requirement already satisfied: urllib3!=2.2.0,<3,>=1.25.4 in /usr/local/lib/python3.11/dist-packages (from botocore<1.37.0,>=1.36.12->boto3) (2.3.0)\n",
            "Requirement already satisfied: six>=1.5 in /usr/local/lib/python3.11/dist-packages (from python-dateutil<3.0.0,>=2.1->botocore<1.37.0,>=1.36.12->boto3) (1.17.0)\n"
          ]
        }
      ]
    },
    {
      "cell_type": "code",
      "source": [
        "#\n",
        "!sudo apt install tesseract-ocr"
      ],
      "metadata": {
        "colab": {
          "base_uri": "https://localhost:8080/"
        },
        "id": "xRdBSVXHQ2p7",
        "outputId": "593c11c1-2002-4cff-c725-43e92dbcbfd1"
      },
      "execution_count": 8,
      "outputs": [
        {
          "output_type": "stream",
          "name": "stdout",
          "text": [
            "Reading package lists... Done\n",
            "Building dependency tree... Done\n",
            "Reading state information... Done\n",
            "The following additional packages will be installed:\n",
            "  tesseract-ocr-eng tesseract-ocr-osd\n",
            "The following NEW packages will be installed:\n",
            "  tesseract-ocr tesseract-ocr-eng tesseract-ocr-osd\n",
            "0 upgraded, 3 newly installed, 0 to remove and 18 not upgraded.\n",
            "Need to get 4,816 kB of archives.\n",
            "After this operation, 15.6 MB of additional disk space will be used.\n",
            "Get:1 http://archive.ubuntu.com/ubuntu jammy/universe amd64 tesseract-ocr-eng all 1:4.00~git30-7274cfa-1.1 [1,591 kB]\n",
            "Get:2 http://archive.ubuntu.com/ubuntu jammy/universe amd64 tesseract-ocr-osd all 1:4.00~git30-7274cfa-1.1 [2,990 kB]\n",
            "Get:3 http://archive.ubuntu.com/ubuntu jammy/universe amd64 tesseract-ocr amd64 4.1.1-2.1build1 [236 kB]\n",
            "Fetched 4,816 kB in 0s (23.4 MB/s)\n",
            "debconf: unable to initialize frontend: Dialog\n",
            "debconf: (No usable dialog-like program is installed, so the dialog based frontend cannot be used. at /usr/share/perl5/Debconf/FrontEnd/Dialog.pm line 78, <> line 3.)\n",
            "debconf: falling back to frontend: Readline\n",
            "debconf: unable to initialize frontend: Readline\n",
            "debconf: (This frontend requires a controlling tty.)\n",
            "debconf: falling back to frontend: Teletype\n",
            "dpkg-preconfigure: unable to re-open stdin: \n",
            "Selecting previously unselected package tesseract-ocr-eng.\n",
            "(Reading database ... 124926 files and directories currently installed.)\n",
            "Preparing to unpack .../tesseract-ocr-eng_1%3a4.00~git30-7274cfa-1.1_all.deb ...\n",
            "Unpacking tesseract-ocr-eng (1:4.00~git30-7274cfa-1.1) ...\n",
            "Selecting previously unselected package tesseract-ocr-osd.\n",
            "Preparing to unpack .../tesseract-ocr-osd_1%3a4.00~git30-7274cfa-1.1_all.deb ...\n",
            "Unpacking tesseract-ocr-osd (1:4.00~git30-7274cfa-1.1) ...\n",
            "Selecting previously unselected package tesseract-ocr.\n",
            "Preparing to unpack .../tesseract-ocr_4.1.1-2.1build1_amd64.deb ...\n",
            "Unpacking tesseract-ocr (4.1.1-2.1build1) ...\n",
            "Setting up tesseract-ocr-eng (1:4.00~git30-7274cfa-1.1) ...\n",
            "Setting up tesseract-ocr-osd (1:4.00~git30-7274cfa-1.1) ...\n",
            "Setting up tesseract-ocr (4.1.1-2.1build1) ...\n",
            "Processing triggers for man-db (2.10.2-1) ...\n"
          ]
        }
      ]
    },
    {
      "cell_type": "code",
      "source": [
        "# !pip install is used to install Python packages using the pip package manager.\n",
        "# !sudo apt install is used to install system packages using the apt package manager.\n",
        "\n",
        "!sudo apt install libtesseract-dev\n",
        "\n",
        "!pip install pytesseract"
      ],
      "metadata": {
        "colab": {
          "base_uri": "https://localhost:8080/"
        },
        "id": "_fWHxSO1Q4n5",
        "outputId": "0d7bac0f-fd82-4581-c96d-96eacb70dcaf"
      },
      "execution_count": 10,
      "outputs": [
        {
          "output_type": "stream",
          "name": "stdout",
          "text": [
            "Reading package lists... Done\n",
            "Building dependency tree... Done\n",
            "Reading state information... Done\n",
            "libtesseract-dev is already the newest version (4.1.1-2.1build1).\n",
            "0 upgraded, 0 newly installed, 0 to remove and 18 not upgraded.\n",
            "Requirement already satisfied: pytesseract in /usr/local/lib/python3.11/dist-packages (0.3.13)\n",
            "Requirement already satisfied: packaging>=21.3 in /usr/local/lib/python3.11/dist-packages (from pytesseract) (24.2)\n",
            "Requirement already satisfied: Pillow>=8.0.0 in /usr/local/lib/python3.11/dist-packages (from pytesseract) (11.1.0)\n"
          ]
        }
      ]
    },
    {
      "cell_type": "code",
      "source": [
        "# Text Detection\n",
        "\n",
        "import pytesseract\n",
        "from PIL import Image\n",
        "\n",
        "image_path = \"/content/images/crime_scene_do_not_cross.jpg\"\n",
        "\n",
        "text = pytesseract.image_to_string(Image.open(image_path), lang='eng')\n",
        "\n",
        "print(text)"
      ],
      "metadata": {
        "colab": {
          "base_uri": "https://localhost:8080/"
        },
        "id": "aUXPNWfSOnb-",
        "outputId": "49e916d2-2263-4d68-c97e-f1a60db44858"
      },
      "execution_count": 15,
      "outputs": [
        {
          "output_type": "stream",
          "name": "stdout",
          "text": [
            " \n",
            "\f\n"
          ]
        }
      ]
    },
    {
      "cell_type": "code",
      "source": [
        "from easyocr import Reader\n",
        "\n",
        "reader = Reader(['en'])\n",
        "text = \"\"\n",
        "results = reader.readtext(Image.open(image_path))\n",
        "\n",
        "for result in results:\n",
        "  text = text + result[1] + \" \"\n",
        "\n",
        "text = text[:-1]\n",
        "\n",
        "print(results)\n",
        "print(text)"
      ],
      "metadata": {
        "colab": {
          "base_uri": "https://localhost:8080/"
        },
        "id": "7dklvLnrP1bh",
        "outputId": "06a9a2fc-fdd2-4bb5-ccba-d3f9be34492a"
      },
      "execution_count": 17,
      "outputs": [
        {
          "output_type": "stream",
          "name": "stderr",
          "text": [
            "WARNING:easyocr.easyocr:Neither CUDA nor MPS are available - defaulting to CPU. Note: This module is much faster with a GPU.\n"
          ]
        },
        {
          "output_type": "stream",
          "name": "stdout",
          "text": [
            "[([[3020.168707373808, 750.0729230518784], [3754.388155626188, 589.6664107657084], [3812.831292626192, 1053.9270769481216], [3078.611844373812, 1214.3335892342916]], 'CroSS', 0.04117422926472374), ([[2532.811784784082, 876.0451917747895], [3031.2304106404417, 766.9262477315311], [3095.188215215918, 1223.9548082252106], [2596.7695893595583, 1334.0737522684688]], 'NOT', 0.1595080921666483), ([[2195.701083125, 953.0183426250005], [2542.7263496178775, 928.8666165238551], [2557.298916875, 1398.9816573749995], [2209.2736503821225, 1423.133383476145]], 'D0', 0.5114852279095937), ([[1243.0133900638466, 1190.0731573024725], [2173.5436667498498, 1000.7822063433899], [2228.9866099361534, 1515.9268426975275], [1298.4563332501502, 1704.21779365661]], 'SCENE', 0.9129860854566332), ([[217.128316134279, 1453.1172162156038], [1250.8684352187756, 1211.885923058971], [1320.871683865721, 1745.8827837843962], [287.1315647812245, 1987.114076941029]], 'CRIME', 0.9910540931567935)]\n",
            "CroSS NOT D0 SCENE CRIME \n"
          ]
        }
      ]
    },
    {
      "cell_type": "code",
      "source": [
        "import boto3\n",
        "\n",
        "access_key = '******************'\n",
        "secret_access_key = '***************'\n",
        "textract_client = boto3.client(\n",
        "                      'textract',\n",
        "                      aws_access_key_id = access_key,\n",
        "                      aws_secret_access_key = secret_access_key,\n",
        "                      region_name = 'us-east-1'\n",
        "                  )\n",
        "\n",
        "with open(image_path, 'rb') as im:\n",
        "  response = textract_client.detect_document_text(\n",
        "      Document={\n",
        "          'Bytes': im.read()\n",
        "      }\n",
        "  )\n",
        "\n",
        "print(response)\n",
        "\n",
        "text = \"\"\n",
        "\n",
        "for item in response[\"Blocks\"]:\n",
        "  if item[\"BlockType\"] == \"LINE\":\n",
        "    text = text + item[\"Text\"] + \" \"\n",
        "\n",
        "text = text[:-1]\n",
        "\n",
        "print(text)"
      ],
      "metadata": {
        "id": "LcSrhHXiUKha"
      },
      "execution_count": null,
      "outputs": []
    },
    {
      "cell_type": "code",
      "source": [
        "# OCR tools: Tesseract, EasyOCR, and AWS Textract.\n",
        "\n",
        "def read_text_tesseract(image_path):\n",
        "\n",
        "  text = pytesseract.image_to_string(Image.open(image_path), lang='eng')\n",
        "  return text\n",
        "\n",
        "def read_text_easyocr(image_path):\n",
        "  text = ''\n",
        "  results = reader.readtext(Image.open(image_path))\n",
        "  for result in results:\n",
        "    text = text + result[1] +  ' '\n",
        "\n",
        "  text = text[:-1]\n",
        "  return text\n",
        "\n",
        "def read_text_textract(image_path):\n",
        "\n",
        "  with open(image_path, 'rb') as im:\n",
        "    response = textract_client.detect_document_text(Document={'Bytes':im.read()})\n",
        "\n",
        "  text = ''\n",
        "  for item in response['Blocks']:\n",
        "    if item['BlockType'] == 'LINE':\n",
        "      text = text + item['Text'] + ' '\n",
        "\n",
        "  text = text[:-1]\n",
        "\n",
        "  return text"
      ],
      "metadata": {
        "id": "ggjY70fGVrqd"
      },
      "execution_count": 21,
      "outputs": []
    },
    {
      "cell_type": "code",
      "source": [
        "# compare performance\n",
        "\n",
        "# jaccard index - measures the similarity between two sets by dividing the size of their intersection by the size of their union.\n",
        "\n",
        "import os\n",
        "\n",
        "def jaccard_similarity(sentence1, sentence2):\n",
        "    # Tokenize sentences into sets of words\n",
        "    set1 = set(sentence1.lower().split())\n",
        "    set2 = set(sentence2.lower().split())\n",
        "\n",
        "    # Calculate Jaccard similarity\n",
        "    intersection_size = len(set1.intersection(set2))\n",
        "    union_size = len(set1.union(set2))\n",
        "\n",
        "    # Avoid division by zero if both sets are empty\n",
        "    similarity = intersection_size / union_size if union_size != 0 else 0.0\n",
        "\n",
        "    return similarity\n",
        "\n",
        "\n",
        "score_tesseract = 0\n",
        "score_easyocr = 0\n",
        "# score_textract = 0data\n",
        "for image_path_ in os.listdir('/content/images'):\n",
        "  # Check if the file is an image (e.g., .jpg, .png)\n",
        "  if image_path_.endswith(('.jpg', '.png')):  # Add more extensions if needed\n",
        "      image_path = os.path.join('/content/images', image_path_)\n",
        "\n",
        "  gt = image_path[:-4].replace('_', ' ').lower()\n",
        "\n",
        "  score_tesseract += jaccard_similarity(gt, read_text_tesseract(image_path).lower().replace('\\n', '').replace('!', '').replace('?', '').replace('.', ''))\n",
        "  score_easyocr += jaccard_similarity(gt, read_text_easyocr(image_path).lower().replace('\\n', '').replace('!', '').replace('?', '').replace('.', ''))\n",
        "  # score_textract += jaccard_similarity(gt, read_text_textract(image_path).lower().replace('\\n', '').replace('!', '').replace('?', '').replace('.', ''))\n",
        "\n",
        "print('score tesseract:', score_tesseract / 100)\n",
        "print('score_easyocr:', score_easyocr / 100)\n",
        "# print('score_textract:', score_textract / 100)"
      ],
      "metadata": {
        "id": "lNsE-KM8USj2"
      },
      "execution_count": null,
      "outputs": []
    },
    {
      "cell_type": "code",
      "source": [],
      "metadata": {
        "id": "SwllzQcgVWui"
      },
      "execution_count": null,
      "outputs": []
    }
  ]
}